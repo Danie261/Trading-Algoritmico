{
  "nbformat": 4,
  "nbformat_minor": 0,
  "metadata": {
    "colab": {
      "name": "Backtesting Strategies.ipynb",
      "provenance": [],
      "collapsed_sections": [
        "-UdFtDgu6h-H",
        "ZobcWTco8Goe",
        "grHCW_NV8kqx",
        "QypV90eQ8-ml",
        "OvSrYMSVgh0P",
        "JU8zrUeDiV3j",
        "aE6HIKUAkodn",
        "TL73ZPYrleXx",
        "IQfCvaFWmV-s"
      ],
      "toc_visible": true,
      "authorship_tag": "ABX9TyOMhVYzFy8sl8KAmU7xeRmD",
      "include_colab_link": true
    },
    "kernelspec": {
      "name": "python3",
      "display_name": "Python 3"
    },
    "language_info": {
      "name": "python"
    }
  },
  "cells": [
    {
      "cell_type": "markdown",
      "metadata": {
        "id": "view-in-github",
        "colab_type": "text"
      },
      "source": [
        "<a href=\"https://colab.research.google.com/github/Danie261/Trading-Algoritmico/blob/main/Backtesting_Strategies.ipynb\" target=\"_parent\"><img src=\"https://colab.research.google.com/assets/colab-badge.svg\" alt=\"Open In Colab\"/></a>"
      ]
    },
    {
      "cell_type": "markdown",
      "source": [
        "#BACKTESTING"
      ],
      "metadata": {
        "id": "t1B6i7-z5EWl"
      }
    },
    {
      "cell_type": "code",
      "execution_count": null,
      "metadata": {
        "id": "mcf6Q2mC5AFh"
      },
      "outputs": [],
      "source": [
        "!pip install talib-binary\n",
        "!pip install yfinance\n",
        "!pip install backtesting"
      ]
    },
    {
      "cell_type": "code",
      "source": [
        "import talib as ta\n",
        "import yfinance as yf\n",
        "from backtesting import Backtest, Strategy\n",
        "from backtesting.lib import crossover\n",
        "\n",
        "ticker=\"GOOG\"\n",
        "df=yf.download(ticker,\"2018-1-1\")\n",
        "\n",
        "def backtest(name):\n",
        "  bt=Backtest(df, name, cash=10000, commission=0.002, exclusive_orders=True, trade_on_close=True)\n",
        "  output=bt.run()\n",
        "  bt.plot()\n",
        "\n",
        "  print()\n",
        "  print(\"*\"*11, \"BACKTESTING STRATEGY\", \"*\"*11)\n",
        "  print()\n",
        "  print(output)"
      ],
      "metadata": {
        "id": "4bBXX9Y75drp",
        "colab": {
          "base_uri": "https://localhost:8080/"
        },
        "outputId": "ca12a729-40ce-4115-d073-b61383cb1fbd"
      },
      "execution_count": 163,
      "outputs": [
        {
          "output_type": "stream",
          "name": "stdout",
          "text": [
            "\r[*********************100%***********************]  1 of 1 completed\n"
          ]
        }
      ]
    },
    {
      "cell_type": "markdown",
      "source": [
        "##'Four Indicators' Strategy"
      ],
      "metadata": {
        "id": "-UdFtDgu6h-H"
      }
    },
    {
      "cell_type": "code",
      "source": [
        "class four_indicators(Strategy):\n",
        "\n",
        "    t=100\n",
        "    t_cci=12\n",
        "    t_atr=14\n",
        "    t_wr=11\n",
        "\n",
        "    def init(self):\n",
        "\n",
        "        self.sma=self.I(ta.SMA, self.data.Close, self.t)\n",
        "        self.cci=self.I(ta.CCI, self.data.High, self.data.Low, self.data.Close, self.t_cci)\n",
        "        self.atr=self.I(ta.ATR, self.data.High, self.data.Low, self.data.Close, self.t_atr)\n",
        "        self.willr=self.I(ta.WILLR, self.data.High, self.data.Low, self.data.Close, self.t_wr)\n",
        "    \n",
        "    def next(self):\n",
        "\n",
        "        price=self.data[\"Close\"][-1]\n",
        "\n",
        "        if self.data.Close>self.sma and self.willr<-85 and self.cci<-100 and self.atr>0.002:\n",
        "\n",
        "            self.buy(sl=price*0.85, tp=price*1.3)\n",
        "\n",
        "        elif self.data.Close<self.sma and self.willr>-15 and self.cci>100 and self.atr>0.002:\n",
        "\n",
        "            self.sell(sl=price*1.2, tp=price*0.75)\n",
        "\n",
        "backtest(four_indicators)"
      ],
      "metadata": {
        "id": "fX1sDPmh57cf"
      },
      "execution_count": null,
      "outputs": []
    },
    {
      "cell_type": "markdown",
      "source": [
        "##'Weighted Average' Strategy"
      ],
      "metadata": {
        "id": "ZobcWTco8Goe"
      }
    },
    {
      "cell_type": "code",
      "source": [
        "class weighted_average(Strategy):\n",
        "\n",
        "    t1=85\n",
        "    t2=75\n",
        "    t_ema=5\n",
        "\n",
        "    def init(self):\n",
        "\n",
        "        self.wma1=self.I(ta.WMA,self.data.Close, self.t1)\n",
        "        self.wma2=self.I(ta.WMA,self.data.Close, self.t2)\n",
        "        self.ema=self.I(ta.EMA, self.data.Close, self.t_ema)\n",
        "\n",
        "    def next(self):\n",
        "\n",
        "        price=self.data[\"Close\"][-1]\n",
        "\n",
        "        if self.wma1>self.wma2:\n",
        "            \n",
        "            if crossover(self.ema, self.wma1):\n",
        "\n",
        "                self.buy()\n",
        "            \n",
        "            elif crossover(self.wma2, self.ema):\n",
        "\n",
        "                self.sell(sl=price*1.2, tp=price*0.8)\n",
        "\n",
        "        else:\n",
        "\n",
        "            if crossover(self.ema, self.wma2):\n",
        "\n",
        "                self.buy()\n",
        "\n",
        "            elif crossover(self.wma1, self.ema):\n",
        "\n",
        "                self.sell(sl=price*1.2, tp=price*0.8)\n",
        "\n",
        "backtest(weighted_average)"
      ],
      "metadata": {
        "id": "hKcZUBjw6zXU"
      },
      "execution_count": null,
      "outputs": []
    },
    {
      "cell_type": "markdown",
      "source": [
        "##'SMA Cross' Strategy"
      ],
      "metadata": {
        "id": "grHCW_NV8kqx"
      }
    },
    {
      "cell_type": "code",
      "source": [
        "class SmaCross(Strategy):\n",
        "\n",
        "    t1=10\n",
        "    t2=20\n",
        "    t_rsi=14\n",
        "\n",
        "    def init(self):\n",
        "        \n",
        "        self.sma1=self.I(ta.SMA, self.data.Close, self.t1)\n",
        "        self.sma2=self.I(ta.SMA, self.data.Close, self.t2)\n",
        "\n",
        "    def next(self):\n",
        "\n",
        "        price=self.data[\"Close\"][-1]\n",
        "\n",
        "        if crossover(self.sma1, self.sma2):\n",
        "\n",
        "            self.buy(sl=price*0.9, tp=price*1.2)\n",
        "\n",
        "        elif crossover(self.sma2, self.sma1):\n",
        "          \n",
        "            self.sell(sl=price*1.2, tp=price*0.8)\n",
        "\n",
        "backtest(SmaCross)"
      ],
      "metadata": {
        "id": "R3eykl7h8Qpz"
      },
      "execution_count": null,
      "outputs": []
    },
    {
      "cell_type": "markdown",
      "source": [
        "##'EMA Cross' Strategy"
      ],
      "metadata": {
        "id": "QypV90eQ8-ml"
      }
    },
    {
      "cell_type": "code",
      "source": [
        "class EmaCross(Strategy):\n",
        "\n",
        "    t1=10\n",
        "    t2=20\n",
        "\n",
        "    def init(self):\n",
        "\n",
        "        self.ema1=self.I(ta.EMA, self.data.Close, self.t1)\n",
        "        self.ema2=self.I(ta.EMA, self.data.Close, self.t2)\n",
        "\n",
        "    def next(self):\n",
        "\n",
        "        price=self.data[\"Close\"][-1]\n",
        "\n",
        "        if crossover(self.ema1, self.ema2):\n",
        "\n",
        "            self.buy(sl=price*0.9, tp=price*1.1)\n",
        "\n",
        "        elif crossover(self.ema2, self.ema1):\n",
        "\n",
        "            self.sell(sl=price*1.1, tp=price*0.9)\n",
        "\n",
        "backtest(EmaCross)"
      ],
      "metadata": {
        "id": "KUuJskI29ERi"
      },
      "execution_count": null,
      "outputs": []
    },
    {
      "cell_type": "markdown",
      "source": [
        "##'Close Cross' Strategy"
      ],
      "metadata": {
        "id": "OvSrYMSVgh0P"
      }
    },
    {
      "cell_type": "code",
      "source": [
        "class CloseCross(Strategy):\n",
        "\n",
        "    t2=20\n",
        "    \n",
        "    def init(self):\n",
        "\n",
        "        self.sma=self.I(ta.SMA, self.data.Close, self.t2)\n",
        "\n",
        "    def next(self):\n",
        "\n",
        "        price=self.data[\"Close\"][-1]\n",
        "\n",
        "        if crossover(self.data.Close, self.sma):\n",
        "\n",
        "            self.buy(sl=price*0.85, tp=price*1.1)\n",
        "\n",
        "        elif crossover(self.sma, self.data.Close):\n",
        "\n",
        "            self.sell(sl=price*1.3, tp=price*0.75)\n",
        "\n",
        "backtest(CloseCross)"
      ],
      "metadata": {
        "id": "cJm9Wm9_gxkN"
      },
      "execution_count": null,
      "outputs": []
    },
    {
      "cell_type": "markdown",
      "source": [
        "##'Bollinger Bands' Strategy"
      ],
      "metadata": {
        "id": "JU8zrUeDiV3j"
      }
    },
    {
      "cell_type": "code",
      "source": [
        "class BBands(Strategy):\n",
        "\n",
        "    t=20\n",
        "\n",
        "    def init(self):\n",
        "        \n",
        "        self.uband, self.mband, self.lband=self.I(ta.BBANDS, self.data.Close, self.t, 2,2,0)\n",
        "        \n",
        "    def next(self):\n",
        "        \n",
        "        price=self.data[\"Close\"][-1]\n",
        "\n",
        "        if crossover(self.data.Close, self.uband):\n",
        "\n",
        "            self.sell(sl=price*1.2, tp=price*0.85) \n",
        "            \n",
        "        elif crossover(self.lband, self.data.Close):  \n",
        "\n",
        "            self.buy(sl=price*0.85, tp=price*1.1)\n",
        "\n",
        "backtest(BBands)"
      ],
      "metadata": {
        "id": "XGCFjYbUieZN"
      },
      "execution_count": null,
      "outputs": []
    },
    {
      "cell_type": "markdown",
      "source": [
        "##'Cross RSI' Strategy"
      ],
      "metadata": {
        "id": "aE6HIKUAkodn"
      }
    },
    {
      "cell_type": "code",
      "source": [
        "class Cross_RSI(Strategy):\n",
        "    \n",
        "    t=100\n",
        "    t_rsi=14\n",
        "\n",
        "    def init(self):\n",
        "\n",
        "         self.sma = self.I(ta.SMA, self.data.Close, self.t)\n",
        "         self.rsi=self.I(ta.RSI, self.data.Close, self.t_rsi)\n",
        "        \n",
        "    def next(self):\n",
        "\n",
        "        price=self.data[\"Close\"][-1]\n",
        "\n",
        "        if crossover(self.data.Close, self.sma) and self.rsi>50:\n",
        "\n",
        "            self.buy()\n",
        "\n",
        "        elif crossover(self.sma, self.data.Close) and self.rsi<50:\n",
        "\n",
        "            self.sell(sl=price*1.1, tp=price*0.9)\n",
        "\n",
        "backtest(Cross_RSI)"
      ],
      "metadata": {
        "id": "qBWnq0zpkvEp"
      },
      "execution_count": null,
      "outputs": []
    },
    {
      "cell_type": "markdown",
      "source": [
        "##'MACD and RSI' Strategy"
      ],
      "metadata": {
        "id": "TL73ZPYrleXx"
      }
    },
    {
      "cell_type": "code",
      "source": [
        "class macd(Strategy):\n",
        "    \n",
        "    t=30\n",
        "    t_sma=200\n",
        "    t_f=12\n",
        "    t_s=26\n",
        "    t_rsi=30\n",
        "\n",
        "    def init(self):\n",
        "\n",
        "        self.macd, self.signal, self.hist=self.I(ta.MACD, self.data.Close, self.t_f, self.t_s, 9)\n",
        "        self.sma=self.I(ta.SMA, self.data.Close, self.t)\n",
        "        self.sma2=self.I(ta.SMA, self.data.Close, self.t_sma)\n",
        "        self.rsi=self.I(ta.RSI, self.data.Close, self.t_rsi)\n",
        "\n",
        "    def next(self):\n",
        "\n",
        "        price=self.data[\"Close\"][-1]\n",
        "\n",
        "        if crossover(self.data.Close, self.sma) and self.sma>self.sma2 and self.macd>0 and self.rsi>50:\n",
        "\n",
        "            self.buy()\n",
        "\n",
        "        elif crossover(self.sma, self.data.Close) and self.sma<self.sma2 and self.macd<0 and self.rsi<50:\n",
        "\n",
        "            self.sell(sl=price*1.3, tp=price*0.75)\n",
        "\n",
        "backtest(macd)"
      ],
      "metadata": {
        "id": "dnPCV_INlsGs"
      },
      "execution_count": null,
      "outputs": []
    },
    {
      "cell_type": "markdown",
      "source": [
        "##'CCI and RSI' Strategy"
      ],
      "metadata": {
        "id": "IQfCvaFWmV-s"
      }
    },
    {
      "cell_type": "code",
      "source": [
        "class cci_rsi(Strategy):\n",
        "\n",
        "    t_sma=150\n",
        "    t=20\n",
        "\n",
        "    def init(self):\n",
        "        \n",
        "        self.sma=self.I(ta.SMA, self.data.Close, self.t_sma)\n",
        "        self.cci=self.I(ta.CCI, self.data.High, self.data.Low, self.data.Close, self.t)\n",
        "        self.rsi=self.I(ta.RSI, self.data.Close, self.t)\n",
        "\n",
        "    def next(self):\n",
        "\n",
        "        price=self.data[\"Close\"][-1]\n",
        "\n",
        "        if crossover(self.data.Close, self.sma) and self.cci>0 and self.rsi>50:\n",
        "\n",
        "            self.buy()\n",
        "\n",
        "        elif crossover(self.sma, self.data.Close) and self.cci<0 and self.rsi<50:\n",
        "\n",
        "            self.sell(sl=price*1.1, tp=price*0.9)\n",
        "\n",
        "backtest(cci_rsi)"
      ],
      "metadata": {
        "id": "uJbeEEgZmY0y"
      },
      "execution_count": null,
      "outputs": []
    }
  ]
}