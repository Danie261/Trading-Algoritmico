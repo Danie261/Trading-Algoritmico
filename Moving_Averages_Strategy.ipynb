{
  "cells": [
    {
      "cell_type": "markdown",
      "metadata": {
        "id": "view-in-github",
        "colab_type": "text"
      },
      "source": [
        "<a href=\"https://colab.research.google.com/github/Danie261/Trading-Algoritmico/blob/main/Moving_Averages_Strategy.ipynb\" target=\"_parent\"><img src=\"https://colab.research.google.com/assets/colab-badge.svg\" alt=\"Open In Colab\"/></a>"
      ]
    },
    {
      "cell_type": "code",
      "execution_count": null,
      "metadata": {
        "id": "cMheFG2X3RfI"
      },
      "outputs": [],
      "source": [
        "import pandas as pd\n",
        "import yfinance as yf\n",
        "import talib as ta\n",
        "from backtesting import Backtest, Strategy\n",
        "from backtesting.lib import crossover\n",
        "\n",
        "\n",
        "ticker=\"GOOG\"\n",
        "df=yf.download(ticker,\"2018-1-1\")\n",
        "\n",
        "\n",
        "#Backtesting\n",
        "class moving_averages(Strategy):\n",
        "\n",
        "    t1=85\n",
        "    t2=75\n",
        "    t_ema=5\n",
        "\n",
        "    def init(self):\n",
        "\n",
        "        self.wma1=self.I(ta.WMA,self.data.Close, self.t1)\n",
        "        self.wma2=self.I(ta.WMA,self.data.Close, self.t2)\n",
        "        self.ema=self.I(ta.EMA, self.data.Close, self.t_ema)\n",
        "\n",
        "    def next(self):\n",
        "\n",
        "        if crossover(self.ema, self.wma1) and crossover(self.ema, self.wma2):\n",
        "\n",
        "            self.buy()\n",
        "\n",
        "        elif crossover(self.wma1, self.ema) and crossover(self.wma2, self.ema):\n",
        "\n",
        "            self.sell()\n",
        "\n",
        "bt=Backtest(df, moving_averages, cash=10000, commission=0.002, exclusive_orders=True, trade_on_close=True)\n",
        "output=bt.run()\n",
        "bt.plot()\n",
        "\n",
        "print(output)"
      ]
    }
  ],
  "metadata": {
    "kernelspec": {
      "display_name": "Python 3.8.5 32-bit",
      "language": "python",
      "name": "python3"
    },
    "language_info": {
      "name": "python",
      "version": "3.8.5"
    },
    "orig_nbformat": 4,
    "vscode": {
      "interpreter": {
        "hash": "d78ea2d9466c3133fb3aaddcb8a4b294953b47a2eae41aea21637842b7ba1e4a"
      }
    },
    "colab": {
      "name": "Moving Averages Strategy.ipynb",
      "provenance": [],
      "include_colab_link": true
    }
  },
  "nbformat": 4,
  "nbformat_minor": 0
}