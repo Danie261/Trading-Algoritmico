{
  "nbformat": 4,
  "nbformat_minor": 0,
  "metadata": {
    "colab": {
      "name": "Binance Bot.ipynb",
      "provenance": [],
      "collapsed_sections": [],
      "authorship_tag": "ABX9TyOx1iJdsZKrIyd2G0ok6AKI",
      "include_colab_link": true
    },
    "kernelspec": {
      "name": "python3",
      "display_name": "Python 3"
    },
    "language_info": {
      "name": "python"
    }
  },
  "cells": [
    {
      "cell_type": "markdown",
      "metadata": {
        "id": "view-in-github",
        "colab_type": "text"
      },
      "source": [
        "<a href=\"https://colab.research.google.com/github/Danie261/Trading-Algoritmico/blob/main/Binance_Bot.ipynb\" target=\"_parent\"><img src=\"https://colab.research.google.com/assets/colab-badge.svg\" alt=\"Open In Colab\"/></a>"
      ]
    },
    {
      "cell_type": "markdown",
      "source": [
        "#Dinamic Stop Loss Bot"
      ],
      "metadata": {
        "id": "a-Q3FOpDYe_e"
      }
    },
    {
      "cell_type": "code",
      "source": [
        "!pip install binance-connector"
      ],
      "metadata": {
        "id": "ZU0zYG8nZdVw"
      },
      "execution_count": null,
      "outputs": []
    },
    {
      "cell_type": "code",
      "source": [
        "from binance.spot import Spot\n",
        "import time"
      ],
      "metadata": {
        "id": "yf9PINcfYjT4"
      },
      "execution_count": 18,
      "outputs": []
    },
    {
      "cell_type": "code",
      "execution_count": null,
      "metadata": {
        "id": "fOGucsYMYAaN"
      },
      "outputs": [],
      "source": [
        "client=Spot(key=\"C0NmDoJIYHVtTMhvaxjPlREdy5YTZRks8GMFnNqvOEo0lNHR9u979702otXy6WLi\", secret=\"TUTvhPYD7a2H17UB2dOvLlovoanicR7RNaDRbB0YWypJco46bUkFPVtmHYKCIjaR\", base_url='https://testnet.binance.vision')\n",
        "\n",
        "ticker=\"XRPUSDT\"\n",
        "ticker_price=float(client.ticker_price(ticker)[\"price\"])\n",
        "\n",
        "params={\n",
        "    \"symbol\": ticker,\n",
        "    \"side\": \"BUY\",\n",
        "    \"type\": \"STOP_LOSS_LIMIT\",\n",
        "    \"quantity\": 1,\n",
        "    \"price\":ticker_price*1.001,\n",
        "    \"stopPrice\":ticker_price*1.2,\n",
        "    \"timeInForce\":\"GTC\"}\n",
        "\n",
        "order=client.new_order_test(**params)\n",
        "\n",
        "while True:\n",
        "    time.sleep(5)\n",
        "    new_ticker_price=float(client.ticker_price(ticker)[\"price\"])\n",
        "    print(\"\\n    Prev Price= \", ticker_price)\n",
        "    print(\"  Current Price= \", new_ticker_price)\n",
        "    \n",
        "    if ticker_price>new_ticker_price:\n",
        "        cancel=client.cancel_order(symbol=ticker, orderId=order.get(\"orderId\"))\n",
        "\n",
        "        order=client.new_order_test(**params)\n",
        "\n",
        "        ticker_price=new_ticker_price\n",
        "\n"
      ]
    }
  ]
}